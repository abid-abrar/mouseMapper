{
 "cells": [
  {
   "cell_type": "markdown",
   "metadata": {},
   "source": [
    "ORGAN SEGMENTATION IPYNB"
   ]
  },
  {
   "cell_type": "markdown",
   "metadata": {},
   "source": [
    "Welcome to the organ segmentation jupyter notebook! Here, we'll do the step by step functions in order to preprocess,run organ segmentation, and post-process your own LSFM whole body mouse scans!"
   ]
  },
  {
   "cell_type": "markdown",
   "metadata": {},
   "source": [
    "Let's start with some imports"
   ]
  },
  {
   "cell_type": "code",
   "execution_count": 1,
   "metadata": {},
   "outputs": [
    {
     "name": "stdout",
     "output_type": "stream",
     "text": [
      "Utils loaded without issues\n"
     ]
    }
   ],
   "source": [
    "import utils\n",
    "import os"
   ]
  },
  {
   "cell_type": "markdown",
   "metadata": {},
   "source": [
    "Then, we need to set the location of the Autofluorescence and PI channels, as well as the downsampling factors. The downsampling factors should take account of what the scan resolution is. We want to obtain a target resolution of approx 60x60x60 um/voxel, so please select accordingly. In our case, that needs a downsampling factor of 10 in both xy and z directions."
   ]
  },
  {
   "cell_type": "code",
   "execution_count": 2,
   "metadata": {},
   "outputs": [],
   "source": [
    "path_base = '/media/izabela/iTERM 47/CD68/'\n",
    "mousenames = ['CD68_chow_7790']\n",
    "channelnames = ['C01','C02']\n",
    "downsampling_factor_xy = 10\n",
    "downsampling_factor_z = 10\n",
    "path_ouput_preprocessing='/media/izabela/iTERM 47/CD68/pipeline_test/'\n",
    "folder_out_pred_nnUNET = '/media/izabela/iTERM 47/CD68/pipeline_test/predictions/'\n",
    "folder_masks_out = '/media/izabela/iTERM 47/CD68/pipeline_test/US/'\n",
    "folder_output_masked_nonorgans = '/media/izabela/iTERM 47/CD68/pipeline_test/Masked_nonorgans/'\n",
    "\n",
    "\n",
    "if not os.path.exists(path_ouput_preprocessing):\n",
    "    os.makedirs(path_ouput_preprocessing)"
   ]
  },
  {
   "cell_type": "code",
   "execution_count": 3,
   "metadata": {},
   "outputs": [
    {
     "name": "stdout",
     "output_type": "stream",
     "text": [
      "Downsampling data for mouse: CD68_chow_7790 by factors:  10 10\n",
      "CD68_chow_7790 (C01) ----------\n",
      "All files were already downsampled.\n",
      "CD68_chow_7790 (C02) ----------\n",
      "All files were already downsampled.\n",
      "Done.\n"
     ]
    }
   ],
   "source": [
    "utils.downsample_folder(path_base , mousenames, channelnames , downsampling_factor_xy, downsampling_factor_z)"
   ]
  },
  {
   "cell_type": "code",
   "execution_count": 4,
   "metadata": {},
   "outputs": [
    {
     "name": "stdout",
     "output_type": "stream",
     "text": [
      " saved Nifti for /media/izabela/iTERM 47/CD68/pipeline_test/CD68_chow_7790_xy10_z10_0000.nii.gz\n",
      " saved Nifti for /media/izabela/iTERM 47/CD68/pipeline_test/CD68_chow_7790_xy10_z10_0001.nii.gz\n"
     ]
    }
   ],
   "source": [
    "utils.preprocess_zslices_to_nifti(path_base , mousenames, channelnames , downsampling_factor_xy, downsampling_factor_z, path_ouput_preprocessing)\n"
   ]
  },
  {
   "cell_type": "markdown",
   "metadata": {},
   "source": [
    "Now that our data is preprocessed, we need to run the prediction of the organ segmentation network. For this, you need to have nnUNetV2 (https://github.com/MIC-DKFZ/nnUNet/tree/master) set up and ready to use.\n",
    "\n",
    "The model is available in the /model folder, and for using it, please use the information here: https://github.com/MIC-DKFZ/nnUNet/blob/master/documentation/how_to_use_nnunet.md#how-to-deploy-and-run-inference-with-your-pretrained-models\n",
    "\n",
    "Then, in your terminal, run the following line:\n",
    "\n",
    "nnUNetv2_predict -d 68802 -i path_ouput_preprocessing -o folder_out_pred -c 3d_fullres -tr nnUNetTrainer "
   ]
  },
  {
   "cell_type": "markdown",
   "metadata": {},
   "source": [
    "Next, we want to postprocess the predictions."
   ]
  },
  {
   "cell_type": "code",
   "execution_count": 5,
   "metadata": {},
   "outputs": [
    {
     "name": "stdout",
     "output_type": "stream",
     "text": [
      "/media/izabela/iTERM 47/CD68/pipeline_test/predictions//CD68_chow_7790_xy10_z10.nii.gz\n"
     ]
    }
   ],
   "source": [
    "utils.postprocess_predictions(folder_out_pred_nnUNET)"
   ]
  },
  {
   "cell_type": "markdown",
   "metadata": {},
   "source": [
    "Lastly, we upsample the predictions"
   ]
  },
  {
   "cell_type": "code",
   "execution_count": 6,
   "metadata": {},
   "outputs": [
    {
     "name": "stdout",
     "output_type": "stream",
     "text": [
      "Upsampling masks for mouse:  CD68_chow_7790_xy10_z10.nii.gz\n",
      "/media/izabela/iTERM 47/CD68/pipeline_test/predictions//CD68_chow_7790_xy10_z10.nii.gz\n",
      "Creating zslices\n",
      "Upsampling the zslices\n",
      "Filling in missing zslices\n"
     ]
    }
   ],
   "source": [
    "utils.upsample_prediction_mask(folder_out_pred_nnUNET,folder_out = folder_masks_out,folder_fullres_in=path_base, downsampling_factor_z=10)"
   ]
  },
  {
   "cell_type": "markdown",
   "metadata": {},
   "source": [
    "Optionally, we can create: \n",
    "1. Masked non-organs (as preparation for the tissue prediction step)"
   ]
  },
  {
   "cell_type": "code",
   "execution_count": 5,
   "metadata": {},
   "outputs": [
    {
     "name": "stdout",
     "output_type": "stream",
     "text": [
      "Masking out organs for mouse:  CD68_chow_7790\n"
     ]
    }
   ],
   "source": [
    "utils.mask_out_organs_from_scan(folder_masks = folder_masks_out, folder_base_mice=path_base, folder_masked_out=folder_output_masked_nonorgans, channels = ['C01','C02'])"
   ]
  },
  {
   "cell_type": "markdown",
   "metadata": {},
   "source": []
  }
 ],
 "metadata": {
  "kernelspec": {
   "display_name": "Python 3",
   "language": "python",
   "name": "python3"
  },
  "language_info": {
   "codemirror_mode": {
    "name": "ipython",
    "version": 3
   },
   "file_extension": ".py",
   "mimetype": "text/x-python",
   "name": "python",
   "nbconvert_exporter": "python",
   "pygments_lexer": "ipython3",
   "version": "3.8.5"
  }
 },
 "nbformat": 4,
 "nbformat_minor": 2
}
